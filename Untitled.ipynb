{
 "cells": [
  {
   "cell_type": "code",
   "execution_count": 4,
   "id": "b0f05c12",
   "metadata": {},
   "outputs": [],
   "source": [
    "import numpy as np\n",
    "import pandas as pd\n",
    "import pandas_datareader as web\n",
    "import matplotlib.pyplot as plt\n",
    "import seaborn as sns\n",
    "import copy\n",
    "\n",
    "from pickle import dump\n",
    "from pickle import load"
   ]
  },
  {
   "cell_type": "code",
   "execution_count": null,
   "id": "519a4079",
   "metadata": {},
   "outputs": [],
   "source": [
    "dataset = pd.read_excel(\"Data/SCFP2009panel.xlsx\")"
   ]
  },
  {
   "cell_type": "code",
   "execution_count": null,
   "id": "89c089fd",
   "metadata": {},
   "outputs": [],
   "source": [
    "average_sp500_2007 = 1478\n",
    "average_sp500_2009 = 948\n",
    "\n",
    "\"\"\"Risk Tolerance for 2007\"\"\"\n",
    "\n",
    "dataset['RiskFree07'] = dataset['LIQ07'] + dataset['CDS07'] + \\\n",
    "    dataset['SAVBND07'] + dataset['CASHLI07']\n",
    "dataset['Risky07'] = dataset['NMMF07'] + \\\n",
    "    dataset['STOCKS07'] + dataset['BOND07']\n",
    "dataset['RT07'] = dataset['Risky07']/(dataset['Risky07']+dataset['RiskFree07'])\n",
    "\n",
    "\"\"\"Risk Tolerance for 2009\"\"\"\n",
    "\n",
    "dataset['RiskFree09'] = dataset['LIQ09'] + dataset['CDS09'] + \\\n",
    "    dataset['SAVBND09'] + dataset['CASHLI09']\n",
    "dataset['Risky09'] = dataset['NMMF09'] + \\\n",
    "    dataset['STOCKS09'] + dataset['BOND09']\n",
    "dataset['RT09'] = dataset['Risky09']/(dataset['Risky09']+dataset['RiskFree09']) * (average_sp500_2007/average_sp500_2009)"
   ]
  },
  {
   "cell_type": "code",
   "execution_count": null,
   "id": "2760c18c",
   "metadata": {},
   "outputs": [],
   "source": [
    "dataset2 = copy.deepcopy(dataset)\n",
    "dataset2.head()\n",
    "\n",
    "dataset2['PercentageChange'] = np.abs(dataset2['RT09']/dataset2['RT07']-1)\n",
    "\n",
    "print('Null Values =',dataset2.isnull().values.any())"
   ]
  },
  {
   "cell_type": "code",
   "execution_count": null,
   "id": "228ac9c0",
   "metadata": {},
   "outputs": [],
   "source": []
  },
  {
   "cell_type": "code",
   "execution_count": null,
   "id": "343f1b86",
   "metadata": {},
   "outputs": [],
   "source": []
  }
 ],
 "metadata": {
  "kernelspec": {
   "display_name": "Python 3 (ipykernel)",
   "language": "python",
   "name": "python3"
  },
  "language_info": {
   "codemirror_mode": {
    "name": "ipython",
    "version": 3
   },
   "file_extension": ".py",
   "mimetype": "text/x-python",
   "name": "python",
   "nbconvert_exporter": "python",
   "pygments_lexer": "ipython3",
   "version": "3.9.7"
  }
 },
 "nbformat": 4,
 "nbformat_minor": 5
}
